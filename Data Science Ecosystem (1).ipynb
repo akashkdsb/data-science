{
 "cells": [
  {
   "cell_type": "markdown",
   "id": "f54fd583-25ac-40c0-9109-4c3160e2a380",
   "metadata": {},
   "source": [
    "# Data Science Tools and Ecosystem"
   ]
  },
  {
   "cell_type": "markdown",
   "id": "4dd6591a-6905-4cda-a9a6-7db003181b66",
   "metadata": {},
   "source": [
    "**Objectives**\n",
    "-Create unordered and ordered lists\n",
    "-Create markdown cells\n",
    "-Format content of markdown cells using header format"
   ]
  },
  {
   "cell_type": "markdown",
   "id": "37d369be-713c-43a9-8bc9-f39f336557e2",
   "metadata": {},
   "source": [
    "In this notebook,Data Science Tools and Ecosystem are summarized."
   ]
  },
  {
   "cell_type": "markdown",
   "id": "cba420b9-3ad0-4a88-ab08-b4e559c67f14",
   "metadata": {},
   "source": [
    "Some of the popular languages that Data Scientists use are:\n",
    "1.Python\n",
    "2.R\n",
    "3.SQL"
   ]
  },
  {
   "cell_type": "markdown",
   "id": "d03ede1c-6c5e-4125-a61a-db5e312a5999",
   "metadata": {},
   "source": [
    "Some of the commonly used libraries used by Data Scientists include:\n",
    "1.Pandas\n",
    "2.Numpy\n",
    "3.Matplotlib"
   ]
  },
  {
   "cell_type": "markdown",
   "id": "cf41befb-5893-4cd0-a97e-35106a0d8dec",
   "metadata": {},
   "source": [
    "Data Science Tools\n",
    "Anaconda\n",
    "Rstudio\n",
    "Jupyter Notebook"
   ]
  },
  {
   "cell_type": "markdown",
   "id": "5df3d2a0-2e10-47b3-9f2d-5f167e5a4667",
   "metadata": {},
   "source": [
    "### Below are a few examples of evaluating arithmetic expressions in Python"
   ]
  },
  {
   "cell_type": "code",
   "execution_count": 1,
   "id": "6b451b65-9cce-4299-a00c-a4771a52efc7",
   "metadata": {
    "tags": []
   },
   "outputs": [
    {
     "name": "stdout",
     "output_type": "stream",
     "text": [
      "17\n"
     ]
    }
   ],
   "source": [
    "a=3\n",
    "b=4\n",
    "c=5\n",
    "print((a*b)+c)"
   ]
  },
  {
   "cell_type": "code",
   "execution_count": 5,
   "id": "f6d3ab49-b4a3-4388-82e3-3f828b632bdf",
   "metadata": {
    "tags": []
   },
   "outputs": [
    {
     "name": "stdout",
     "output_type": "stream",
     "text": [
      "3.33\n"
     ]
    }
   ],
   "source": [
    "a=200\n",
    "b=60\n",
    "c=a/b\n",
    "d=round(c,2)\n",
    "print(d)"
   ]
  },
  {
   "cell_type": "markdown",
   "id": "41bb3f11-884f-4dd8-9b7b-8915103ffdd9",
   "metadata": {},
   "source": [
    "**Author**\n",
    "Akash Kumar"
   ]
  }
 ],
 "metadata": {
  "kernelspec": {
   "display_name": "Python",
   "language": "python",
   "name": "conda-env-python-py"
  },
  "language_info": {
   "codemirror_mode": {
    "name": "ipython",
    "version": 3
   },
   "file_extension": ".py",
   "mimetype": "text/x-python",
   "name": "python",
   "nbconvert_exporter": "python",
   "pygments_lexer": "ipython3",
   "version": "3.7.12"
  }
 },
 "nbformat": 4,
 "nbformat_minor": 5
}
